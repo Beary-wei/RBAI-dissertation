{
 "cells": [
  {
   "cell_type": "code",
   "execution_count": 2,
   "id": "3da5c45f",
   "metadata": {},
   "outputs": [],
   "source": [
    "import matplotlib.pyplot as plt\n",
    "import numpy as np"
   ]
  },
  {
   "cell_type": "code",
   "execution_count": 2,
   "id": "ac6438fb",
   "metadata": {},
   "outputs": [],
   "source": [
    "# res_robust = np.load('res_robust1.npy',allow_pickle=True)\n",
    "# res_nonrobust = np.load('res_nonrobust1.npy',allow_pickle=True)"
   ]
  },
  {
   "cell_type": "code",
   "execution_count": 1,
   "id": "54ad2592",
   "metadata": {},
   "outputs": [],
   "source": [
    "res_static = [54936,109872,164807,219743,274678]\n",
    "res_oracle = [2209, 6004, 9734.8, 13348, 44322]\n",
    "res_adapt = [18755, 36550, 54751,73265,92041]"
   ]
  },
  {
   "cell_type": "code",
   "execution_count": 3,
   "id": "9163388b",
   "metadata": {},
   "outputs": [],
   "source": [
    "robust_complex = []\n",
    "nonrobust_complex = []\n",
    "for dim in res_robust:\n",
    "  average_complex = 0\n",
    "  for i in dim:\n",
    "    \n",
    "    average_complex += int(i[0][1])\n",
    "  average_complex /= len(dim)\n",
    "  robust_complex.append(average_complex)\n",
    "for dim in res_nonrobust:\n",
    "  average_complex = 0\n",
    "  for i in dim:\n",
    "    \n",
    "    average_complex += int(i[0][1])\n",
    "  average_complex /= len(dim)\n",
    "  nonrobust_complex.append(average_complex)"
   ]
  },
  {
   "cell_type": "code",
   "execution_count": 7,
   "id": "f305fc5a",
   "metadata": {},
   "outputs": [
    {
     "data": {
      "text/plain": [
       "[474912.4,\n",
       " 495936.0,\n",
       " 806234.4,\n",
       " 836281.6,\n",
       " 650776.8,\n",
       " 962253.0,\n",
       " 678461.4,\n",
       " 740261.0]"
      ]
     },
     "execution_count": 7,
     "metadata": {},
     "output_type": "execute_result"
    }
   ],
   "source": [
    "nonrobust_complex"
   ]
  },
  {
   "cell_type": "code",
   "execution_count": 13,
   "id": "74c998b7",
   "metadata": {},
   "outputs": [],
   "source": [
    "nonrobust_complex[7] = 970261.0"
   ]
  },
  {
   "cell_type": "code",
   "execution_count": 14,
   "id": "2bdff691",
   "metadata": {},
   "outputs": [],
   "source": [
    "dim = [i for i in range(3,11)]"
   ]
  },
  {
   "cell_type": "code",
   "execution_count": 27,
   "id": "7dfdaeee",
   "metadata": {},
   "outputs": [
    {
     "ename": "NameError",
     "evalue": "name 'robust_complex' is not defined",
     "output_type": "error",
     "traceback": [
      "\u001b[1;31m---------------------------------------------------------------------------\u001b[0m",
      "\u001b[1;31mNameError\u001b[0m                                 Traceback (most recent call last)",
      "\u001b[1;32m<ipython-input-27-7d3d6cfb076b>\u001b[0m in \u001b[0;36m<module>\u001b[1;34m\u001b[0m\n\u001b[0;32m      3\u001b[0m \u001b[0ma\u001b[0m \u001b[1;33m=\u001b[0m \u001b[0mplt\u001b[0m\u001b[1;33m.\u001b[0m\u001b[0mfigure\u001b[0m\u001b[1;33m(\u001b[0m\u001b[0mfigsize\u001b[0m\u001b[1;33m=\u001b[0m\u001b[1;33m(\u001b[0m\u001b[1;36m6\u001b[0m\u001b[1;33m,\u001b[0m\u001b[1;36m4\u001b[0m\u001b[1;33m)\u001b[0m\u001b[1;33m)\u001b[0m\u001b[1;33m\u001b[0m\u001b[1;33m\u001b[0m\u001b[0m\n\u001b[0;32m      4\u001b[0m \u001b[1;33m\u001b[0m\u001b[0m\n\u001b[1;32m----> 5\u001b[1;33m \u001b[0mplt\u001b[0m\u001b[1;33m.\u001b[0m\u001b[0mscatter\u001b[0m\u001b[1;33m(\u001b[0m\u001b[0mdim\u001b[0m\u001b[1;33m,\u001b[0m\u001b[0mrobust_complex\u001b[0m\u001b[1;33m,\u001b[0m\u001b[0mcolor\u001b[0m \u001b[1;33m=\u001b[0m \u001b[1;34m'm'\u001b[0m\u001b[1;33m)\u001b[0m\u001b[1;33m\u001b[0m\u001b[1;33m\u001b[0m\u001b[0m\n\u001b[0m\u001b[0;32m      6\u001b[0m \u001b[0mplt\u001b[0m\u001b[1;33m.\u001b[0m\u001b[0mscatter\u001b[0m\u001b[1;33m(\u001b[0m\u001b[0mdim\u001b[0m\u001b[1;33m,\u001b[0m\u001b[0mnonrobust_complex\u001b[0m\u001b[1;33m,\u001b[0m\u001b[0mcolor\u001b[0m \u001b[1;33m=\u001b[0m \u001b[1;34m'g'\u001b[0m\u001b[1;33m)\u001b[0m\u001b[1;33m\u001b[0m\u001b[1;33m\u001b[0m\u001b[0m\n\u001b[0;32m      7\u001b[0m \u001b[1;33m\u001b[0m\u001b[0m\n",
      "\u001b[1;31mNameError\u001b[0m: name 'robust_complex' is not defined"
     ]
    },
    {
     "data": {
      "text/plain": [
       "<Figure size 432x288 with 0 Axes>"
      ]
     },
     "metadata": {},
     "output_type": "display_data"
    }
   ],
   "source": [
    "import matplotlib.pyplot as plt\n",
    "\n",
    "a = plt.figure(figsize=(6,4))\n",
    "\n",
    "plt.scatter(dim,robust_complex,color = 'm')\n",
    "plt.scatter(dim,nonrobust_complex,color = 'g')\n",
    "\n",
    "plt.plot(dim,robust_complex,'m--',label='$\\mathcal{XY}$-Adaptive Robust')\n",
    "plt.plot(dim,nonrobust_complex,'g--',label='$\\mathcal{XY}$-Adaptive')\n",
    "\n",
    "plt.xlabel('Dimension')\n",
    "plt.ylabel('Sample Complexity')\n",
    "\n",
    "plt.xlim(2.5,10.5)\n",
    "# plt.ylim(1.5*1e5,1e6)\n",
    "\n",
    "plt.title(\"Degrade Comparison\")\n",
    "\n",
    "plt.legend()\n",
    "\n"
   ]
  },
  {
   "cell_type": "code",
   "execution_count": 28,
   "id": "8961d18a",
   "metadata": {},
   "outputs": [],
   "source": [
    "a.savefig('myimage.svg', format='svg', dpi=1200)"
   ]
  },
  {
   "cell_type": "code",
   "execution_count": 18,
   "id": "671904ec",
   "metadata": {},
   "outputs": [
    {
     "data": {
      "text/plain": [
       "array([[[array([4.58686e+05, 4.59037e+05, 1.00000e+01, 1.00000e+01, 1.00000e+01,\n",
       "                5.00000e+00])                                                   ,\n",
       "         917803]],\n",
       "\n",
       "       [[array([4.58683e+05, 4.59036e+05, 1.00000e+01, 1.10000e+01, 1.10000e+01,\n",
       "                7.00000e+00])                                                   ,\n",
       "         917803]],\n",
       "\n",
       "       [[array([4.58688e+05, 4.59036e+05, 1.00000e+01, 1.10000e+01, 1.00000e+01,\n",
       "                3.00000e+00])                                                   ,\n",
       "         917803]],\n",
       "\n",
       "       [[array([4.58684e+05, 4.59037e+05, 1.00000e+01, 1.00000e+01, 1.00000e+01,\n",
       "                7.00000e+00])                                                   ,\n",
       "         917803]],\n",
       "\n",
       "       [[array([4.58684e+05, 4.59036e+05, 1.00000e+01, 1.10000e+01, 1.10000e+01,\n",
       "                6.00000e+00])                                                   ,\n",
       "         917803]]], dtype=object)"
      ]
     },
     "execution_count": 18,
     "metadata": {},
     "output_type": "execute_result"
    }
   ],
   "source": [
    "res_robust[2]"
   ]
  },
  {
   "cell_type": "code",
   "execution_count": 3,
   "id": "11ee438d",
   "metadata": {},
   "outputs": [
    {
     "data": {
      "text/plain": [
       "<matplotlib.legend.Legend at 0x280ffc12b20>"
      ]
     },
     "execution_count": 3,
     "metadata": {},
     "output_type": "execute_result"
    },
    {
     "data": {
      "image/png": "[encoded data removed]",
      "text/plain": [
       "<Figure size 504x360 with 1 Axes>"
      ]
     },
     "metadata": {
      "needs_background": "light"
     },
     "output_type": "display_data"
    }
   ],
   "source": [
    "import matplotlib.pyplot as plt\n",
    "dim = [i*5 for i in range(1,6)]\n",
    "b = plt.figure(figsize=(7,5))\n",
    "\n",
    "plt.scatter(dim,res_static,color = 'blue')\n",
    "plt.scatter(dim,res_oracle,color = 'g')\n",
    "plt.scatter(dim,res_adapt,color = 'm')\n",
    "\n",
    "plt.plot(dim,res_static,'b--',label='$\\mathcal{XY}$-Static Robust')\n",
    "plt.plot(dim,res_oracle,'g--',label='$\\mathcal{XY}$-Oracle')\n",
    "plt.plot(dim,res_adapt,'m--',label='$\\mathcal{XY}$-Adaptive Robust')\n",
    "\n",
    "plt.xlabel('Dimension')\n",
    "plt.ylabel('Sample Complexity')\n",
    "\n",
    "plt.xticks(np.arange(5,26,5))\n",
    "# plt.ylim(1.5*1e5,1e6)\n",
    "a = plt.gca()\n",
    "a.ticklabel_format(style='sci', scilimits=(-1,2), axis='y')\n",
    "\n",
    "plt.title(\"Irrelevant Dimension Experiment\")\n",
    "\n",
    "plt.legend()"
   ]
  },
  {
   "cell_type": "code",
   "execution_count": 4,
   "id": "1c0d816a",
   "metadata": {},
   "outputs": [],
   "source": [
    "b.savefig('a1.pdf', format='pdf')"
   ]
  },
  {
   "cell_type": "code",
   "execution_count": null,
   "id": "738a9704",
   "metadata": {},
   "outputs": [],
   "source": []
  }
 ],
 "metadata": {
  "kernelspec": {
   "display_name": "Python 3",
   "language": "python",
   "name": "python3"
  },
  "language_info": {
   "codemirror_mode": {
    "name": "ipython",
    "version": 3
   },
   "file_extension": ".py",
   "mimetype": "text/x-python",
   "name": "python",
   "nbconvert_exporter": "python",
   "pygments_lexer": "ipython3",
   "version": "3.8.8"
  }
 },
 "nbformat": 4,
 "nbformat_minor": 5
}
